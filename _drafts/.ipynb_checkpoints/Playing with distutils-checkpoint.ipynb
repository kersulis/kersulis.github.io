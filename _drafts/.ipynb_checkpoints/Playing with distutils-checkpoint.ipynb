{
 "cells": [],
 "metadata": {
  "signature": "sha256:b24ddfdedfd2205b20dbdcf5e5baf74ee6dfc9d8564b74ca8433039e87196d61"
 },
 "nbformat": 4,
 "nbformat_minor": 0
}